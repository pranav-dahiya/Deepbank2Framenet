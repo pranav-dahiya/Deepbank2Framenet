{
 "cells": [
  {
   "cell_type": "code",
   "execution_count": 105,
   "id": "cc3f43a8-c126-458f-b9f3-7aea87380d93",
   "metadata": {},
   "outputs": [],
   "source": [
    "import pickle\n",
    "from torch_geometric.data import Data\n",
    "from torch import nn\n",
    "import matplotlib.pyplot as plt\n",
    "import torch\n",
    "import multiprocessing as mp\n",
    "from tqdm import tqdm\n",
    "from gnn_utils import embedd"
   ]
  },
  {
   "cell_type": "code",
   "execution_count": 106,
   "id": "c34583da-4df7-42ec-b438-538d20d18559",
   "metadata": {},
   "outputs": [],
   "source": [
    "with open('make-sentences.pickle', 'rb') as f:\n",
    "    sentences = pickle.load(f)"
   ]
  },
  {
   "cell_type": "code",
   "execution_count": 107,
   "id": "0b577f87-ecf4-4f17-95ba-be6c5328ee12",
   "metadata": {},
   "outputs": [],
   "source": [
    "classes = list({sentence.semlink[0].frame for sentence in sentences})"
   ]
  },
  {
   "cell_type": "code",
   "execution_count": 108,
   "id": "b7d07ab9-a5f4-4a59-b272-1d50951d4428",
   "metadata": {},
   "outputs": [
    {
     "data": {
      "text/plain": [
       "['Building',\n",
       " 'Manufacturing',\n",
       " 'Causation',\n",
       " 'Cause_change',\n",
       " 'Intentionally_create',\n",
       " 'Cooking_creation',\n",
       " 'Earnings_and_losses',\n",
       " 'Arriving']"
      ]
     },
     "execution_count": 108,
     "metadata": {},
     "output_type": "execute_result"
    }
   ],
   "source": [
    "classes"
   ]
  },
  {
   "cell_type": "code",
   "execution_count": 137,
   "id": "f4b08b67-3c1a-415f-8104-3b0518ba5f23",
   "metadata": {},
   "outputs": [
    {
     "name": "stderr",
     "output_type": "stream",
     "text": [
      "526it [13:26,  1.53s/it]\n"
     ]
    }
   ],
   "source": [
    "context = mp.get_context('spawn')\n",
    "data = list()\n",
    "with context.Pool(6) as p:\n",
    "    for val in tqdm(p.imap(embedd, sentences)):\n",
    "        data.append(val)"
   ]
  },
  {
   "cell_type": "code",
   "execution_count": 138,
   "id": "54d96e4b-c811-4a88-8567-c00543947509",
   "metadata": {},
   "outputs": [
    {
     "data": {
      "text/plain": [
       "(526, torch.Size([16]))"
      ]
     },
     "execution_count": 138,
     "metadata": {},
     "output_type": "execute_result"
    }
   ],
   "source": [
    "len(data), data[0].shape"
   ]
  },
  {
   "cell_type": "code",
   "execution_count": 139,
   "id": "71f55395-0558-415f-9c3a-4428ec2ec597",
   "metadata": {},
   "outputs": [],
   "source": [
    "x = torch.stack(data).float()\n",
    "x = nn.functional.normalize(x, dim=1)"
   ]
  },
  {
   "cell_type": "code",
   "execution_count": 140,
   "id": "d85b025a-14e4-4c71-a084-35af35f0e88b",
   "metadata": {},
   "outputs": [],
   "source": [
    "y = torch.stack([torch.tensor([int(val == sentence.semlink[0].frame) for val in classes], dtype=torch.float32) for sentence in sentences])"
   ]
  },
  {
   "cell_type": "code",
   "execution_count": 141,
   "id": "e087fe1a-1ebc-4d4d-b463-287ba5f798e7",
   "metadata": {},
   "outputs": [],
   "source": [
    "train_x = x[:450]\n",
    "test_x = x[450:]\n",
    "train_y = y[:450]\n",
    "test_y = y[450:]"
   ]
  },
  {
   "cell_type": "code",
   "execution_count": 162,
   "id": "4d4152d8-fabd-4ed9-9a15-8f89a096802b",
   "metadata": {},
   "outputs": [],
   "source": [
    "model = nn.Sequential(nn.Linear(16, 128),\n",
    "                      nn.ReLU(),\n",
    "                      nn.Linear(128, 128),\n",
    "                      nn.ReLU(),\n",
    "                      nn.Linear(128, 128),\n",
    "                      nn.ReLU(),\n",
    "                      nn.Linear(128, 8),\n",
    "                      nn.Sigmoid())"
   ]
  },
  {
   "cell_type": "code",
   "execution_count": 163,
   "id": "029c9fe5-efa2-4923-be90-a1ca58311b1d",
   "metadata": {},
   "outputs": [],
   "source": [
    "loss_function = nn.MSELoss()\n",
    "optimizer = torch.optim.Adam(model.parameters(), lr=0.00001)"
   ]
  },
  {
   "cell_type": "code",
   "execution_count": 164,
   "id": "35b51721-78ea-42b4-9ddc-826077d6a18e",
   "metadata": {},
   "outputs": [
    {
     "data": {
      "image/png": "[encoded data removed]",
      "text/plain": [
       "<Figure size 640x480 with 1 Axes>"
      ]
     },
     "metadata": {},
     "output_type": "display_data"
    }
   ],
   "source": [
    "def train(x, y):\n",
    "    pred_y = model(x)\n",
    "    loss = loss_function(pred_y, y)\n",
    "    model.zero_grad()\n",
    "    loss.backward()\n",
    "    optimizer.step()\n",
    "    return loss.item()\n",
    "\n",
    "@torch.no_grad()\n",
    "def test(x, y):\n",
    "    pred_y = model(x)\n",
    "    return loss_function(pred_y, y).item()\n",
    "\n",
    "loss = list()\n",
    "acc = list()\n",
    "for epoch in range(5000):\n",
    "    loss.append(train(train_x, train_y))\n",
    "    acc.append(test(test_x, test_y))\n",
    "\n",
    "plt.plot(loss, label='train')\n",
    "plt.plot(acc, label='test')\n",
    "plt.ylabel('Loss')\n",
    "plt.xlabel('Epoch')\n",
    "plt.legend()\n",
    "plt.show()"
   ]
  },
  {
   "cell_type": "code",
   "execution_count": 165,
   "id": "642567ed-3a97-412b-a16e-23cd8169f355",
   "metadata": {},
   "outputs": [],
   "source": [
    "id_set = {sentence.id for sentence in sentences}"
   ]
  },
  {
   "cell_type": "code",
   "execution_count": 166,
   "id": "7bd22d2d-3d19-4b5b-b120-4cb86c6aacc3",
   "metadata": {},
   "outputs": [
    {
     "data": {
      "text/plain": [
       "False"
      ]
     },
     "execution_count": 166,
     "metadata": {},
     "output_type": "execute_result"
    }
   ],
   "source": [
    "22168017 in id_set"
   ]
  },
  {
   "cell_type": "code",
   "execution_count": 167,
   "id": "0a5c650e-521e-4967-8c7b-3aa2865411c5",
   "metadata": {},
   "outputs": [
    {
     "data": {
      "text/plain": [
       "False"
      ]
     },
     "execution_count": 167,
     "metadata": {},
     "output_type": "execute_result"
    }
   ],
   "source": [
    "22170032 in id_set"
   ]
  },
  {
   "cell_type": "code",
   "execution_count": 168,
   "id": "f6587c3f-f474-45fc-8cf1-67ad193befc1",
   "metadata": {},
   "outputs": [
    {
     "data": {
      "text/plain": [
       "False"
      ]
     },
     "execution_count": 168,
     "metadata": {},
     "output_type": "execute_result"
    }
   ],
   "source": [
    "22172005 in id_set"
   ]
  },
  {
   "cell_type": "code",
   "execution_count": 169,
   "id": "0c75978b-35a5-4991-8422-ca30626391f9",
   "metadata": {},
   "outputs": [],
   "source": [
    "from deepbank_parser import DeepbankParser"
   ]
  },
  {
   "cell_type": "code",
   "execution_count": 177,
   "id": "da964ab8-d687-41b5-96db-29235cf5f950",
   "metadata": {},
   "outputs": [],
   "source": [
    "sentence = DeepbankParser().parse_sentence(22160014)"
   ]
  },
  {
   "cell_type": "code",
   "execution_count": 172,
   "id": "298464a9-1967-415c-8c90-512f432d821f",
   "metadata": {},
   "outputs": [],
   "source": [
    "from data_classes import Sentence"
   ]
  },
  {
   "cell_type": "code",
   "execution_count": 179,
   "id": "7a171f46-3b69-4ef7-a720-ff8c5605d640",
   "metadata": {},
   "outputs": [],
   "source": [
    "sentence_ = Sentence(sentence.id, sentence, [])"
   ]
  },
  {
   "cell_type": "code",
   "execution_count": 181,
   "id": "e484ef32-4377-44ff-8843-8661a79e91c8",
   "metadata": {},
   "outputs": [],
   "source": [
    "from gnn_utils import node2vec, eds2data"
   ]
  },
  {
   "cell_type": "code",
   "execution_count": 182,
   "id": "f750b56b-a947-4a9d-a2a7-9a715c1997be",
   "metadata": {},
   "outputs": [],
   "source": [
    "x = node2vec(eds2data(sentence.eds))"
   ]
  },
  {
   "cell_type": "code",
   "execution_count": 185,
   "id": "e96f55ec-a15b-4802-b0ac-676edbcf00eb",
   "metadata": {},
   "outputs": [],
   "source": [
    "x_ = nn.functional.normalize(x.mean(dim=0), dim=0)"
   ]
  },
  {
   "cell_type": "code",
   "execution_count": 186,
   "id": "628170fb-7395-48f9-a136-4b3c97c68b11",
   "metadata": {},
   "outputs": [
    {
     "data": {
      "text/plain": [
       "tensor([ 0.1197, -0.5051, -0.2393,  0.1444, -0.0821,  0.2916,  0.1762, -0.3309,\n",
       "         0.0833,  0.3040, -0.3024, -0.0970,  0.0025,  0.4064,  0.2330,  0.0196])"
      ]
     },
     "execution_count": 186,
     "metadata": {},
     "output_type": "execute_result"
    }
   ],
   "source": [
    "x_"
   ]
  },
  {
   "cell_type": "code",
   "execution_count": 195,
   "id": "fada0a2e-d890-43f3-9af3-121f135ecdfb",
   "metadata": {},
   "outputs": [],
   "source": [
    "y = model(x_)"
   ]
  },
  {
   "cell_type": "code",
   "execution_count": 197,
   "id": "9e997a7b-d5a4-438d-8f29-b75a7b8bbfd2",
   "metadata": {},
   "outputs": [
    {
     "data": {
      "text/plain": [
       "tensor([0.0249, 0.5532, 0.2022, 0.1273, 0.0844, 0.0206, 0.0225, 0.0166],\n",
       "       grad_fn=<CopySlices>)"
      ]
     },
     "execution_count": 197,
     "metadata": {},
     "output_type": "execute_result"
    }
   ],
   "source": [
    "y"
   ]
  },
  {
   "cell_type": "code",
   "execution_count": 198,
   "id": "c4b12137-2456-4e22-ae00-2b3ac56acaa3",
   "metadata": {},
   "outputs": [
    {
     "data": {
      "text/plain": [
       "'Manufacturing'"
      ]
     },
     "execution_count": 198,
     "metadata": {},
     "output_type": "execute_result"
    }
   ],
   "source": [
    "classes[1]"
   ]
  },
  {
   "cell_type": "code",
   "execution_count": null,
   "id": "6dde2082-cb42-4fb8-9ec1-277a224e22ad",
   "metadata": {},
   "outputs": [],
   "source": []
  }
 ],
 "metadata": {
  "kernelspec": {
   "display_name": "Python 3 (ipykernel)",
   "language": "python",
   "name": "python3"
  },
  "language_info": {
   "codemirror_mode": {
    "name": "ipython",
    "version": 3
   },
   "file_extension": ".py",
   "mimetype": "text/x-python",
   "name": "python",
   "nbconvert_exporter": "python",
   "pygments_lexer": "ipython3",
   "version": "3.10.9"
  }
 },
 "nbformat": 4,
 "nbformat_minor": 5
}
