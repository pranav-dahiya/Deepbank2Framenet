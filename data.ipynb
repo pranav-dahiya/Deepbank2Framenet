{
 "cells": [
  {
   "cell_type": "code",
   "execution_count": 2,
   "id": "8a731c75-f478-4a68-a9a0-8fd5b12106eb",
   "metadata": {},
   "outputs": [],
   "source": [
    "import pickle"
   ]
  },
  {
   "cell_type": "code",
   "execution_count": 3,
   "id": "c59fb61d-efae-4d63-a112-c641229f0c0e",
   "metadata": {},
   "outputs": [
    {
     "data": {
      "text/plain": [
       "28373"
      ]
     },
     "execution_count": 3,
     "metadata": {},
     "output_type": "execute_result"
    }
   ],
   "source": [
    "with open('semlink.pickle', 'rb') as f:\n",
    "    semlink = pickle.load(f)\n",
    "len(semlink)"
   ]
  },
  {
   "cell_type": "code",
   "execution_count": 4,
   "id": "4d7b7a83-1996-4ca3-9ba3-f4824b707655",
   "metadata": {},
   "outputs": [
    {
     "data": {
      "text/plain": [
       "19622"
      ]
     },
     "execution_count": 4,
     "metadata": {},
     "output_type": "execute_result"
    }
   ],
   "source": [
    "with open('deepbank.pickle', 'rb') as f:\n",
    "    deepbank = pickle.load(f)\n",
    "len(deepbank)"
   ]
  },
  {
   "cell_type": "code",
   "execution_count": 5,
   "id": "e461b3b4-bdbb-4627-9399-1c0b0b00c6d8",
   "metadata": {},
   "outputs": [
    {
     "data": {
      "text/plain": [
       "28373"
      ]
     },
     "execution_count": 5,
     "metadata": {},
     "output_type": "execute_result"
    }
   ],
   "source": [
    "semlink = [instance for instance in semlink if instance]\n",
    "len(semlink)"
   ]
  },
  {
   "cell_type": "code",
   "execution_count": 6,
   "id": "adee8186-cc13-419c-bbf9-825b0d7e30e4",
   "metadata": {},
   "outputs": [],
   "source": [
    "from collections import defaultdict"
   ]
  },
  {
   "cell_type": "code",
   "execution_count": 7,
   "id": "d64b05c7-fbdc-4a7b-87f3-dc416ed49595",
   "metadata": {},
   "outputs": [],
   "source": [
    "verbs = defaultdict(int)\n",
    "frames = defaultdict(lambda: defaultdict(int))"
   ]
  },
  {
   "cell_type": "code",
   "execution_count": 8,
   "id": "fae16b54-6916-4271-bcbe-854c8fafdca1",
   "metadata": {},
   "outputs": [],
   "source": [
    "for instance in semlink:\n",
    "    verbs[instance.verb] += 1\n",
    "    frames[instance.verb][instance.frame] += 1"
   ]
  },
  {
   "cell_type": "code",
   "execution_count": 9,
   "id": "b9c5588a-7b6b-4706-b7c3-d4d006c98b72",
   "metadata": {},
   "outputs": [],
   "source": [
    "from pandas import DataFrame, Series"
   ]
  },
  {
   "cell_type": "code",
   "execution_count": 10,
   "id": "6f2fe607-70cf-4d7c-b637-ec63f5ea999e",
   "metadata": {},
   "outputs": [],
   "source": [
    "index = list(verbs.keys())"
   ]
  },
  {
   "cell_type": "code",
   "execution_count": 11,
   "id": "74c21f21-c1ff-4833-b680-6e2279b1ea25",
   "metadata": {},
   "outputs": [],
   "source": [
    "df = DataFrame({'counts': [verbs[val] for val in index], 'frames': [frames[val] for val in index]}, index=index)"
   ]
  },
  {
   "cell_type": "code",
   "execution_count": 12,
   "id": "1100556b-2d47-4271-bf1f-7e24381875e1",
   "metadata": {},
   "outputs": [
    {
     "data": {
      "text/html": [
       "<div>\n",
       "<style scoped>\n",
       "    .dataframe tbody tr th:only-of-type {\n",
       "        vertical-align: middle;\n",
       "    }\n",
       "\n",
       "    .dataframe tbody tr th {\n",
       "        vertical-align: top;\n",
       "    }\n",
       "\n",
       "    .dataframe thead th {\n",
       "        text-align: right;\n",
       "    }\n",
       "</style>\n",
       "<table border=\"1\" class=\"dataframe\">\n",
       "  <thead>\n",
       "    <tr style=\"text-align: right;\">\n",
       "      <th></th>\n",
       "      <th>counts</th>\n",
       "      <th>frames</th>\n",
       "    </tr>\n",
       "  </thead>\n",
       "  <tbody>\n",
       "    <tr>\n",
       "      <th>join-v</th>\n",
       "      <td>120</td>\n",
       "      <td>{'Cause_to_amalgamate': 120}</td>\n",
       "    </tr>\n",
       "    <tr>\n",
       "      <th>make-v</th>\n",
       "      <td>726</td>\n",
       "      <td>{'Manufacturing': 147, 'Intentionally_create':...</td>\n",
       "    </tr>\n",
       "    <tr>\n",
       "      <th>cause-v</th>\n",
       "      <td>199</td>\n",
       "      <td>{'Causation': 199}</td>\n",
       "    </tr>\n",
       "    <tr>\n",
       "      <th>report-v</th>\n",
       "      <td>327</td>\n",
       "      <td>{'Statement': 327}</td>\n",
       "    </tr>\n",
       "    <tr>\n",
       "      <th>stop-v</th>\n",
       "      <td>119</td>\n",
       "      <td>{'Activity_stop': 53, 'Process_stop': 14, 'Thw...</td>\n",
       "    </tr>\n",
       "    <tr>\n",
       "      <th>...</th>\n",
       "      <td>...</td>\n",
       "      <td>...</td>\n",
       "    </tr>\n",
       "    <tr>\n",
       "      <th>comfort-v</th>\n",
       "      <td>1</td>\n",
       "      <td>{'Experiencer_obj': 1}</td>\n",
       "    </tr>\n",
       "    <tr>\n",
       "      <th>long-v</th>\n",
       "      <td>2</td>\n",
       "      <td>{'Desiring': 2}</td>\n",
       "    </tr>\n",
       "    <tr>\n",
       "      <th>tutor-v</th>\n",
       "      <td>2</td>\n",
       "      <td>{'Education_teaching': 2}</td>\n",
       "    </tr>\n",
       "    <tr>\n",
       "      <th>unify-v</th>\n",
       "      <td>2</td>\n",
       "      <td>{'Cause_to_amalgamate': 2}</td>\n",
       "    </tr>\n",
       "    <tr>\n",
       "      <th>crown-v</th>\n",
       "      <td>1</td>\n",
       "      <td>{'Change_of_leadership': 1}</td>\n",
       "    </tr>\n",
       "  </tbody>\n",
       "</table>\n",
       "<p>888 rows × 2 columns</p>\n",
       "</div>"
      ],
      "text/plain": [
       "           counts                                             frames\n",
       "join-v        120                       {'Cause_to_amalgamate': 120}\n",
       "make-v        726  {'Manufacturing': 147, 'Intentionally_create':...\n",
       "cause-v       199                                 {'Causation': 199}\n",
       "report-v      327                                 {'Statement': 327}\n",
       "stop-v        119  {'Activity_stop': 53, 'Process_stop': 14, 'Thw...\n",
       "...           ...                                                ...\n",
       "comfort-v       1                             {'Experiencer_obj': 1}\n",
       "long-v          2                                    {'Desiring': 2}\n",
       "tutor-v         2                          {'Education_teaching': 2}\n",
       "unify-v         2                         {'Cause_to_amalgamate': 2}\n",
       "crown-v         1                        {'Change_of_leadership': 1}\n",
       "\n",
       "[888 rows x 2 columns]"
      ]
     },
     "execution_count": 12,
     "metadata": {},
     "output_type": "execute_result"
    }
   ],
   "source": [
    "df"
   ]
  },
  {
   "cell_type": "code",
   "execution_count": 13,
   "id": "ef24d8d3-bb1d-417e-9737-bd5f27499d6d",
   "metadata": {},
   "outputs": [],
   "source": [
    "df.sort_values('counts', ascending=False, inplace=True)"
   ]
  },
  {
   "cell_type": "code",
   "execution_count": 14,
   "id": "a5daf32a-2772-4929-8ef2-3939e46c87a1",
   "metadata": {},
   "outputs": [],
   "source": [
    "verbs = df"
   ]
  },
  {
   "cell_type": "code",
   "execution_count": 44,
   "id": "6063509d-14ff-4e9f-9af2-d57d6efed6a4",
   "metadata": {},
   "outputs": [
    {
     "data": {
      "text/plain": [
       "counts    180\n",
       "frames    180\n",
       "dtype: int64"
      ]
     },
     "execution_count": 44,
     "metadata": {},
     "output_type": "execute_result"
    }
   ],
   "source": [
    "df[df.apply(lambda row: 'IN' in row['frames'], axis=1)].count()"
   ]
  },
  {
   "cell_type": "code",
   "execution_count": 260,
   "id": "2f376446-039b-4484-8af6-f5659834cf84",
   "metadata": {},
   "outputs": [
    {
     "data": {
      "text/html": [
       "<div>\n",
       "<style scoped>\n",
       "    .dataframe tbody tr th:only-of-type {\n",
       "        vertical-align: middle;\n",
       "    }\n",
       "\n",
       "    .dataframe tbody tr th {\n",
       "        vertical-align: top;\n",
       "    }\n",
       "\n",
       "    .dataframe thead th {\n",
       "        text-align: right;\n",
       "    }\n",
       "</style>\n",
       "<table border=\"1\" class=\"dataframe\">\n",
       "  <thead>\n",
       "    <tr style=\"text-align: right;\">\n",
       "      <th></th>\n",
       "      <th>counts</th>\n",
       "      <th>frames</th>\n",
       "    </tr>\n",
       "  </thead>\n",
       "  <tbody>\n",
       "    <tr>\n",
       "      <th>add-v</th>\n",
       "      <td>466</td>\n",
       "      <td>{'Statement': 176, 'NF': 290}</td>\n",
       "    </tr>\n",
       "    <tr>\n",
       "      <th>hold-v</th>\n",
       "      <td>334</td>\n",
       "      <td>{'Manipulation': 184, 'Containing': 41, 'Opini...</td>\n",
       "    </tr>\n",
       "    <tr>\n",
       "      <th>need-v</th>\n",
       "      <td>326</td>\n",
       "      <td>{'Needing': 229, 'Required_event': 84, 'Have_a...</td>\n",
       "    </tr>\n",
       "    <tr>\n",
       "      <th>work-v</th>\n",
       "      <td>304</td>\n",
       "      <td>{'IN': 302, 'NF': 2}</td>\n",
       "    </tr>\n",
       "    <tr>\n",
       "      <th>believe-v</th>\n",
       "      <td>300</td>\n",
       "      <td>{'Awareness': 229, 'Trust': 13, 'Opinion': 39,...</td>\n",
       "    </tr>\n",
       "    <tr>\n",
       "      <th>...</th>\n",
       "      <td>...</td>\n",
       "      <td>...</td>\n",
       "    </tr>\n",
       "    <tr>\n",
       "      <th>sigh-v</th>\n",
       "      <td>3</td>\n",
       "      <td>{'NF': 2, 'Breathing': 1}</td>\n",
       "    </tr>\n",
       "    <tr>\n",
       "      <th>hammer-v</th>\n",
       "      <td>3</td>\n",
       "      <td>{'Cause_harm': 2, 'NF': 1}</td>\n",
       "    </tr>\n",
       "    <tr>\n",
       "      <th>rocket-v</th>\n",
       "      <td>2</td>\n",
       "      <td>{'NF': 1, 'Change_position_on_a_scale': 1}</td>\n",
       "    </tr>\n",
       "    <tr>\n",
       "      <th>grind-v</th>\n",
       "      <td>2</td>\n",
       "      <td>{'Grinding': 1, 'NF': 1}</td>\n",
       "    </tr>\n",
       "    <tr>\n",
       "      <th>seethe-v</th>\n",
       "      <td>2</td>\n",
       "      <td>{'NF': 1, 'Emotion_heat': 1}</td>\n",
       "    </tr>\n",
       "  </tbody>\n",
       "</table>\n",
       "<p>67 rows × 2 columns</p>\n",
       "</div>"
      ],
      "text/plain": [
       "           counts                                             frames\n",
       "add-v         466                      {'Statement': 176, 'NF': 290}\n",
       "hold-v        334  {'Manipulation': 184, 'Containing': 41, 'Opini...\n",
       "need-v        326  {'Needing': 229, 'Required_event': 84, 'Have_a...\n",
       "work-v        304                               {'IN': 302, 'NF': 2}\n",
       "believe-v     300  {'Awareness': 229, 'Trust': 13, 'Opinion': 39,...\n",
       "...           ...                                                ...\n",
       "sigh-v          3                          {'NF': 2, 'Breathing': 1}\n",
       "hammer-v        3                         {'Cause_harm': 2, 'NF': 1}\n",
       "rocket-v        2         {'NF': 1, 'Change_position_on_a_scale': 1}\n",
       "grind-v         2                           {'Grinding': 1, 'NF': 1}\n",
       "seethe-v        2                       {'NF': 1, 'Emotion_heat': 1}\n",
       "\n",
       "[67 rows x 2 columns]"
      ]
     },
     "execution_count": 260,
     "metadata": {},
     "output_type": "execute_result"
    }
   ],
   "source": [
    "df[df.apply(lambda row: 'NF' in row['frames'] and len(row['frames']) > 1, axis=1)]"
   ]
  },
  {
   "cell_type": "code",
   "execution_count": 47,
   "id": "ce195155-9421-4a58-a44b-1045c75206f6",
   "metadata": {},
   "outputs": [
    {
     "data": {
      "text/plain": [
       "counts    226\n",
       "frames    226\n",
       "dtype: int64"
      ]
     },
     "execution_count": 47,
     "metadata": {},
     "output_type": "execute_result"
    }
   ],
   "source": [
    "df[df.apply(lambda row: len(row['frames']) > 1, axis=1)].count()"
   ]
  },
  {
   "cell_type": "code",
   "execution_count": 16,
   "id": "2b4e649e-792c-45dc-adb1-e4d14c7777ab",
   "metadata": {},
   "outputs": [],
   "source": [
    "verbs = df[df.apply(lambda row: len(row['frames']) > 1, axis=1)]"
   ]
  },
  {
   "cell_type": "code",
   "execution_count": 281,
   "id": "410eaef5-debf-4267-9393-d1d34262f2bf",
   "metadata": {},
   "outputs": [
    {
     "data": {
      "text/html": [
       "<div>\n",
       "<style scoped>\n",
       "    .dataframe tbody tr th:only-of-type {\n",
       "        vertical-align: middle;\n",
       "    }\n",
       "\n",
       "    .dataframe tbody tr th {\n",
       "        vertical-align: top;\n",
       "    }\n",
       "\n",
       "    .dataframe thead th {\n",
       "        text-align: right;\n",
       "    }\n",
       "</style>\n",
       "<table border=\"1\" class=\"dataframe\">\n",
       "  <thead>\n",
       "    <tr style=\"text-align: right;\">\n",
       "      <th></th>\n",
       "      <th>counts</th>\n",
       "      <th>frames</th>\n",
       "    </tr>\n",
       "  </thead>\n",
       "  <tbody>\n",
       "    <tr>\n",
       "      <th>make-v</th>\n",
       "      <td>726</td>\n",
       "      <td>{'Manufacturing': 147, 'Intentionally_create':...</td>\n",
       "    </tr>\n",
       "    <tr>\n",
       "      <th>rise-v</th>\n",
       "      <td>537</td>\n",
       "      <td>{'Change_position_on_a_scale': 534, 'Motion_di...</td>\n",
       "    </tr>\n",
       "    <tr>\n",
       "      <th>see-v</th>\n",
       "      <td>463</td>\n",
       "      <td>{'Perception_experience': 295, 'Grasp': 132, '...</td>\n",
       "    </tr>\n",
       "    <tr>\n",
       "      <th>continue-v</th>\n",
       "      <td>457</td>\n",
       "      <td>{'Process_continue': 244, 'Activity_ongoing': ...</td>\n",
       "    </tr>\n",
       "    <tr>\n",
       "      <th>begin-v</th>\n",
       "      <td>444</td>\n",
       "      <td>{'Process_start': 234, 'Activity_start': 210}</td>\n",
       "    </tr>\n",
       "    <tr>\n",
       "      <th>...</th>\n",
       "      <td>...</td>\n",
       "      <td>...</td>\n",
       "    </tr>\n",
       "    <tr>\n",
       "      <th>shine-v</th>\n",
       "      <td>3</td>\n",
       "      <td>{'Light_movement': 2, 'Location_of_light': 1}</td>\n",
       "    </tr>\n",
       "    <tr>\n",
       "      <th>snatch-v</th>\n",
       "      <td>2</td>\n",
       "      <td>{'Theft': 1, 'Removing': 1}</td>\n",
       "    </tr>\n",
       "    <tr>\n",
       "      <th>remember-v</th>\n",
       "      <td>2</td>\n",
       "      <td>{'Remembering_information': 1, 'Remembering_ex...</td>\n",
       "    </tr>\n",
       "    <tr>\n",
       "      <th>crouch-v</th>\n",
       "      <td>2</td>\n",
       "      <td>{'Posture': 1, 'Change_posture': 1}</td>\n",
       "    </tr>\n",
       "    <tr>\n",
       "      <th>wail-v</th>\n",
       "      <td>2</td>\n",
       "      <td>{'Make_noise': 1, 'Communication_noise': 1}</td>\n",
       "    </tr>\n",
       "  </tbody>\n",
       "</table>\n",
       "<p>145 rows × 2 columns</p>\n",
       "</div>"
      ],
      "text/plain": [
       "            counts                                             frames\n",
       "make-v         726  {'Manufacturing': 147, 'Intentionally_create':...\n",
       "rise-v         537  {'Change_position_on_a_scale': 534, 'Motion_di...\n",
       "see-v          463  {'Perception_experience': 295, 'Grasp': 132, '...\n",
       "continue-v     457  {'Process_continue': 244, 'Activity_ongoing': ...\n",
       "begin-v        444      {'Process_start': 234, 'Activity_start': 210}\n",
       "...            ...                                                ...\n",
       "shine-v          3      {'Light_movement': 2, 'Location_of_light': 1}\n",
       "snatch-v         2                        {'Theft': 1, 'Removing': 1}\n",
       "remember-v       2  {'Remembering_information': 1, 'Remembering_ex...\n",
       "crouch-v         2                {'Posture': 1, 'Change_posture': 1}\n",
       "wail-v           2        {'Make_noise': 1, 'Communication_noise': 1}\n",
       "\n",
       "[145 rows x 2 columns]"
      ]
     },
     "execution_count": 281,
     "metadata": {},
     "output_type": "execute_result"
    }
   ],
   "source": [
    "verbs"
   ]
  },
  {
   "cell_type": "code",
   "execution_count": 264,
   "id": "08c73405-b6d1-4706-97fc-7f56502065b5",
   "metadata": {},
   "outputs": [
    {
     "data": {
      "text/html": [
       "<div>\n",
       "<style scoped>\n",
       "    .dataframe tbody tr th:only-of-type {\n",
       "        vertical-align: middle;\n",
       "    }\n",
       "\n",
       "    .dataframe tbody tr th {\n",
       "        vertical-align: top;\n",
       "    }\n",
       "\n",
       "    .dataframe thead th {\n",
       "        text-align: right;\n",
       "    }\n",
       "</style>\n",
       "<table border=\"1\" class=\"dataframe\">\n",
       "  <thead>\n",
       "    <tr style=\"text-align: right;\">\n",
       "      <th></th>\n",
       "      <th>counts</th>\n",
       "      <th>frames</th>\n",
       "    </tr>\n",
       "  </thead>\n",
       "  <tbody>\n",
       "    <tr>\n",
       "      <th>fall-v</th>\n",
       "      <td>341</td>\n",
       "      <td>{'Change_position_on_a_scale': 330, 'Motion_di...</td>\n",
       "    </tr>\n",
       "    <tr>\n",
       "      <th>lead-v</th>\n",
       "      <td>335</td>\n",
       "      <td>{'Cotheme': 213, 'Causation': 122}</td>\n",
       "    </tr>\n",
       "    <tr>\n",
       "      <th>keep-v</th>\n",
       "      <td>285</td>\n",
       "      <td>{'Cause_to_continue': 192, 'Storing': 37, 'Act...</td>\n",
       "    </tr>\n",
       "    <tr>\n",
       "      <th>ask-v</th>\n",
       "      <td>257</td>\n",
       "      <td>{'Request': 136, 'Questioning': 121}</td>\n",
       "    </tr>\n",
       "    <tr>\n",
       "      <th>file-v</th>\n",
       "      <td>219</td>\n",
       "      <td>{'Submitting_documents': 215, 'Placing': 4}</td>\n",
       "    </tr>\n",
       "    <tr>\n",
       "      <th>...</th>\n",
       "      <td>...</td>\n",
       "      <td>...</td>\n",
       "    </tr>\n",
       "    <tr>\n",
       "      <th>taste-v</th>\n",
       "      <td>3</td>\n",
       "      <td>{'Appearance': 2, 'Perception_active': 1}</td>\n",
       "    </tr>\n",
       "    <tr>\n",
       "      <th>snatch-v</th>\n",
       "      <td>2</td>\n",
       "      <td>{'Theft': 1, 'Removing': 1}</td>\n",
       "    </tr>\n",
       "    <tr>\n",
       "      <th>remember-v</th>\n",
       "      <td>2</td>\n",
       "      <td>{'Remembering_information': 1, 'Remembering_ex...</td>\n",
       "    </tr>\n",
       "    <tr>\n",
       "      <th>crouch-v</th>\n",
       "      <td>2</td>\n",
       "      <td>{'Posture': 1, 'Change_posture': 1}</td>\n",
       "    </tr>\n",
       "    <tr>\n",
       "      <th>wail-v</th>\n",
       "      <td>2</td>\n",
       "      <td>{'Make_noise': 1, 'Communication_noise': 1}</td>\n",
       "    </tr>\n",
       "  </tbody>\n",
       "</table>\n",
       "<p>88 rows × 2 columns</p>\n",
       "</div>"
      ],
      "text/plain": [
       "            counts                                             frames\n",
       "fall-v         341  {'Change_position_on_a_scale': 330, 'Motion_di...\n",
       "lead-v         335                 {'Cotheme': 213, 'Causation': 122}\n",
       "keep-v         285  {'Cause_to_continue': 192, 'Storing': 37, 'Act...\n",
       "ask-v          257               {'Request': 136, 'Questioning': 121}\n",
       "file-v         219        {'Submitting_documents': 215, 'Placing': 4}\n",
       "...            ...                                                ...\n",
       "taste-v          3          {'Appearance': 2, 'Perception_active': 1}\n",
       "snatch-v         2                        {'Theft': 1, 'Removing': 1}\n",
       "remember-v       2  {'Remembering_information': 1, 'Remembering_ex...\n",
       "crouch-v         2                {'Posture': 1, 'Change_posture': 1}\n",
       "wail-v           2        {'Make_noise': 1, 'Communication_noise': 1}\n",
       "\n",
       "[88 rows x 2 columns]"
      ]
     },
     "execution_count": 264,
     "metadata": {},
     "output_type": "execute_result"
    }
   ],
   "source": [
    "verbs[verbs.apply(lambda row: 'NF' not in row['frames'] and 'IN' not in row['frames'], axis=1)]"
   ]
  },
  {
   "cell_type": "code",
   "execution_count": 17,
   "id": "c46b4ff8-7aeb-46ea-bce7-a4b4dcc8acab",
   "metadata": {},
   "outputs": [
    {
     "data": {
      "text/html": [
       "<div>\n",
       "<style scoped>\n",
       "    .dataframe tbody tr th:only-of-type {\n",
       "        vertical-align: middle;\n",
       "    }\n",
       "\n",
       "    .dataframe tbody tr th {\n",
       "        vertical-align: top;\n",
       "    }\n",
       "\n",
       "    .dataframe thead th {\n",
       "        text-align: right;\n",
       "    }\n",
       "</style>\n",
       "<table border=\"1\" class=\"dataframe\">\n",
       "  <thead>\n",
       "    <tr style=\"text-align: right;\">\n",
       "      <th></th>\n",
       "      <th>counts</th>\n",
       "      <th>frames</th>\n",
       "    </tr>\n",
       "  </thead>\n",
       "  <tbody>\n",
       "    <tr>\n",
       "      <th>make-v</th>\n",
       "      <td>726</td>\n",
       "      <td>{'Manufacturing': 147, 'Intentionally_create':...</td>\n",
       "    </tr>\n",
       "    <tr>\n",
       "      <th>rise-v</th>\n",
       "      <td>537</td>\n",
       "      <td>{'Change_position_on_a_scale': 534, 'Motion_di...</td>\n",
       "    </tr>\n",
       "    <tr>\n",
       "      <th>see-v</th>\n",
       "      <td>463</td>\n",
       "      <td>{'Perception_experience': 295, 'Grasp': 132, '...</td>\n",
       "    </tr>\n",
       "    <tr>\n",
       "      <th>continue-v</th>\n",
       "      <td>457</td>\n",
       "      <td>{'Process_continue': 244, 'Activity_ongoing': ...</td>\n",
       "    </tr>\n",
       "    <tr>\n",
       "      <th>begin-v</th>\n",
       "      <td>444</td>\n",
       "      <td>{'Process_start': 234, 'Activity_start': 210}</td>\n",
       "    </tr>\n",
       "    <tr>\n",
       "      <th>remain-v</th>\n",
       "      <td>343</td>\n",
       "      <td>{'State_continue': 302, 'Remainder': 25, 'Left...</td>\n",
       "    </tr>\n",
       "    <tr>\n",
       "      <th>fall-v</th>\n",
       "      <td>341</td>\n",
       "      <td>{'Change_position_on_a_scale': 330, 'Motion_di...</td>\n",
       "    </tr>\n",
       "    <tr>\n",
       "      <th>lead-v</th>\n",
       "      <td>335</td>\n",
       "      <td>{'Cotheme': 213, 'Causation': 122}</td>\n",
       "    </tr>\n",
       "    <tr>\n",
       "      <th>need-v</th>\n",
       "      <td>323</td>\n",
       "      <td>{'Needing': 229, 'Required_event': 84, 'Have_a...</td>\n",
       "    </tr>\n",
       "    <tr>\n",
       "      <th>believe-v</th>\n",
       "      <td>297</td>\n",
       "      <td>{'Awareness': 229, 'Trust': 13, 'Opinion': 39,...</td>\n",
       "    </tr>\n",
       "    <tr>\n",
       "      <th>hold-v</th>\n",
       "      <td>294</td>\n",
       "      <td>{'Manipulation': 184, 'Containing': 41, 'Opini...</td>\n",
       "    </tr>\n",
       "    <tr>\n",
       "      <th>consider-v</th>\n",
       "      <td>289</td>\n",
       "      <td>{'Categorization': 120, 'Cogitation': 169}</td>\n",
       "    </tr>\n",
       "    <tr>\n",
       "      <th>keep-v</th>\n",
       "      <td>285</td>\n",
       "      <td>{'Cause_to_continue': 192, 'Storing': 37, 'Act...</td>\n",
       "    </tr>\n",
       "    <tr>\n",
       "      <th>tell-v</th>\n",
       "      <td>283</td>\n",
       "      <td>{'Evidence': 14, 'Becoming_aware': 2, 'Prevari...</td>\n",
       "    </tr>\n",
       "    <tr>\n",
       "      <th>ask-v</th>\n",
       "      <td>257</td>\n",
       "      <td>{'Request': 136, 'Questioning': 121}</td>\n",
       "    </tr>\n",
       "    <tr>\n",
       "      <th>start-v</th>\n",
       "      <td>235</td>\n",
       "      <td>{'Activity_start': 161, 'Process_start': 74}</td>\n",
       "    </tr>\n",
       "    <tr>\n",
       "      <th>file-v</th>\n",
       "      <td>219</td>\n",
       "      <td>{'Submitting_documents': 215, 'Placing': 4}</td>\n",
       "    </tr>\n",
       "    <tr>\n",
       "      <th>leave-v</th>\n",
       "      <td>195</td>\n",
       "      <td>{'Departing': 93, 'Causation': 55, 'Giving': 5...</td>\n",
       "    </tr>\n",
       "    <tr>\n",
       "      <th>feel-v</th>\n",
       "      <td>188</td>\n",
       "      <td>{'Opinion': 81, 'Feeling': 68, 'Perception_exp...</td>\n",
       "    </tr>\n",
       "    <tr>\n",
       "      <th>follow-v</th>\n",
       "      <td>172</td>\n",
       "      <td>{'Cotheme': 165, 'Relative_time': 7}</td>\n",
       "    </tr>\n",
       "    <tr>\n",
       "      <th>write-v</th>\n",
       "      <td>164</td>\n",
       "      <td>{'Text_creation': 79, 'Contacting': 17, 'State...</td>\n",
       "    </tr>\n",
       "    <tr>\n",
       "      <th>take-v</th>\n",
       "      <td>150</td>\n",
       "      <td>{'Bringing': 41, 'Taking': 47, 'Have_as_requir...</td>\n",
       "    </tr>\n",
       "    <tr>\n",
       "      <th>move-v</th>\n",
       "      <td>145</td>\n",
       "      <td>{'Motion': 57, 'Change_position_on_a_scale': 3...</td>\n",
       "    </tr>\n",
       "    <tr>\n",
       "      <th>drop-v</th>\n",
       "      <td>125</td>\n",
       "      <td>{'Change_position_on_a_scale': 123, 'Motion_di...</td>\n",
       "    </tr>\n",
       "    <tr>\n",
       "      <th>stop-v</th>\n",
       "      <td>119</td>\n",
       "      <td>{'Activity_stop': 53, 'Process_stop': 14, 'Thw...</td>\n",
       "    </tr>\n",
       "    <tr>\n",
       "      <th>indicate-v</th>\n",
       "      <td>117</td>\n",
       "      <td>{'Evidence': 85, 'Communication': 32}</td>\n",
       "    </tr>\n",
       "    <tr>\n",
       "      <th>maintain-v</th>\n",
       "      <td>108</td>\n",
       "      <td>{'Statement': 101, 'Activity_ongoing': 7}</td>\n",
       "    </tr>\n",
       "    <tr>\n",
       "      <th>prevent-v</th>\n",
       "      <td>104</td>\n",
       "      <td>{'Preventing': 64, 'Thwarting': 40}</td>\n",
       "    </tr>\n",
       "    <tr>\n",
       "      <th>gain-v</th>\n",
       "      <td>101</td>\n",
       "      <td>{'Change_of_quantity_of_possession': 30, 'Chan...</td>\n",
       "    </tr>\n",
       "  </tbody>\n",
       "</table>\n",
       "</div>"
      ],
      "text/plain": [
       "            counts                                             frames\n",
       "make-v         726  {'Manufacturing': 147, 'Intentionally_create':...\n",
       "rise-v         537  {'Change_position_on_a_scale': 534, 'Motion_di...\n",
       "see-v          463  {'Perception_experience': 295, 'Grasp': 132, '...\n",
       "continue-v     457  {'Process_continue': 244, 'Activity_ongoing': ...\n",
       "begin-v        444      {'Process_start': 234, 'Activity_start': 210}\n",
       "remain-v       343  {'State_continue': 302, 'Remainder': 25, 'Left...\n",
       "fall-v         341  {'Change_position_on_a_scale': 330, 'Motion_di...\n",
       "lead-v         335                 {'Cotheme': 213, 'Causation': 122}\n",
       "need-v         323  {'Needing': 229, 'Required_event': 84, 'Have_a...\n",
       "believe-v      297  {'Awareness': 229, 'Trust': 13, 'Opinion': 39,...\n",
       "hold-v         294  {'Manipulation': 184, 'Containing': 41, 'Opini...\n",
       "consider-v     289         {'Categorization': 120, 'Cogitation': 169}\n",
       "keep-v         285  {'Cause_to_continue': 192, 'Storing': 37, 'Act...\n",
       "tell-v         283  {'Evidence': 14, 'Becoming_aware': 2, 'Prevari...\n",
       "ask-v          257               {'Request': 136, 'Questioning': 121}\n",
       "start-v        235       {'Activity_start': 161, 'Process_start': 74}\n",
       "file-v         219        {'Submitting_documents': 215, 'Placing': 4}\n",
       "leave-v        195  {'Departing': 93, 'Causation': 55, 'Giving': 5...\n",
       "feel-v         188  {'Opinion': 81, 'Feeling': 68, 'Perception_exp...\n",
       "follow-v       172               {'Cotheme': 165, 'Relative_time': 7}\n",
       "write-v        164  {'Text_creation': 79, 'Contacting': 17, 'State...\n",
       "take-v         150  {'Bringing': 41, 'Taking': 47, 'Have_as_requir...\n",
       "move-v         145  {'Motion': 57, 'Change_position_on_a_scale': 3...\n",
       "drop-v         125  {'Change_position_on_a_scale': 123, 'Motion_di...\n",
       "stop-v         119  {'Activity_stop': 53, 'Process_stop': 14, 'Thw...\n",
       "indicate-v     117              {'Evidence': 85, 'Communication': 32}\n",
       "maintain-v     108          {'Statement': 101, 'Activity_ongoing': 7}\n",
       "prevent-v      104                {'Preventing': 64, 'Thwarting': 40}\n",
       "gain-v         101  {'Change_of_quantity_of_possession': 30, 'Chan..."
      ]
     },
     "execution_count": 17,
     "metadata": {},
     "output_type": "execute_result"
    }
   ],
   "source": [
    "verbs[verbs.apply(lambda row: row['counts'] > 100, axis=1)]"
   ]
  },
  {
   "cell_type": "code",
   "execution_count": 59,
   "id": "4230bb91-088b-47ed-8fb3-9b56b1a1460a",
   "metadata": {},
   "outputs": [],
   "source": [
    "import xml.etree.ElementTree as ET"
   ]
  },
  {
   "cell_type": "code",
   "execution_count": 61,
   "id": "8ba36bcc-560a-4dff-9a33-0e454867d517",
   "metadata": {},
   "outputs": [],
   "source": [
    "verb2frame = ET.parse('/home/pranav/Documents/MPhil/L98/Assignment 3/semlink-master/other_resources/vn-fn2.s')"
   ]
  },
  {
   "cell_type": "code",
   "execution_count": 62,
   "id": "8fd82cee-19e0-44bf-8408-c3f25ac1b2aa",
   "metadata": {},
   "outputs": [],
   "source": [
    "root = verb2frame.getroot()"
   ]
  },
  {
   "cell_type": "code",
   "execution_count": 69,
   "id": "5fdccb58-dd4a-41b3-a4cf-ed6d4d77574a",
   "metadata": {},
   "outputs": [],
   "source": [
    "verb2frame = [elem.attrib for elem in root]"
   ]
  },
  {
   "cell_type": "code",
   "execution_count": 71,
   "id": "faf9e3a4-10fa-438f-81df-78e9c932b20f",
   "metadata": {},
   "outputs": [
    {
     "data": {
      "text/plain": [
       "{'class': '10.1',\n",
       " 'fnframe': 'Use_firearm',\n",
       " 'versionID': 'vn3.3',\n",
       " 'vnmember': 'discharge'}"
      ]
     },
     "execution_count": 71,
     "metadata": {},
     "output_type": "execute_result"
    }
   ],
   "source": [
    "verb2frame[0]"
   ]
  },
  {
   "cell_type": "code",
   "execution_count": 128,
   "id": "62ae2363-e301-4f5a-9dc8-9c59130c5424",
   "metadata": {},
   "outputs": [],
   "source": [
    "all_frames = [[val['fnframe'] for val in verb2frame if val['vnmember'] == verb] for verb in verbs.index]"
   ]
  },
  {
   "cell_type": "code",
   "execution_count": 129,
   "id": "35f6c298-2dd4-4956-8338-9b45580c6fec",
   "metadata": {},
   "outputs": [],
   "source": [
    "verbs['all_frames'] = all_frames"
   ]
  },
  {
   "cell_type": "code",
   "execution_count": 130,
   "id": "d4560112-f844-408f-ab4e-3cf7ca08e184",
   "metadata": {},
   "outputs": [],
   "source": [
    "verbs[verbs['counts'] > 100].to_csv('verbs.csv')"
   ]
  },
  {
   "cell_type": "code",
   "execution_count": 134,
   "id": "bc336fa4-c0f8-4dae-a6d1-4170c5cab625",
   "metadata": {},
   "outputs": [],
   "source": [
    "verbs[verbs.apply(lambda row: len(row['frames']) > 1, axis=1)].to_csv('verbs.csv')"
   ]
  },
  {
   "cell_type": "code",
   "execution_count": 198,
   "id": "7c060583-6926-4b51-a856-b349ad51ad36",
   "metadata": {},
   "outputs": [],
   "source": [
    "make_semlink = [instance for instance in semlink if instance.verb == 'make']"
   ]
  },
  {
   "cell_type": "code",
   "execution_count": 199,
   "id": "adbfc8e9-e789-47dc-992d-5bc728bc6304",
   "metadata": {},
   "outputs": [
    {
     "data": {
      "text/plain": [
       "SemlinkInstance(id=20003001, token='make', verb='make', frame='Manufacturing', args={'ARG0': 'Manufacturer', 'ARG1': 'Product'})"
      ]
     },
     "execution_count": 199,
     "metadata": {},
     "output_type": "execute_result"
    }
   ],
   "source": [
    "make_semlink[0]"
   ]
  },
  {
   "cell_type": "code",
   "execution_count": 200,
   "id": "62f7a342-940b-492f-bbf7-f5dd6497fe1f",
   "metadata": {},
   "outputs": [],
   "source": [
    "id_set = {instance.id for instance in make_semlink}"
   ]
  },
  {
   "cell_type": "code",
   "execution_count": 201,
   "id": "f2797359-37b9-4637-96af-12acd854d2d7",
   "metadata": {},
   "outputs": [],
   "source": [
    "make_deepbank = [instance for instance in deepbank if instance and instance.id in id_set]"
   ]
  },
  {
   "cell_type": "code",
   "execution_count": 202,
   "id": "55105521-3e74-4ef3-ab08-e24d244a63b9",
   "metadata": {},
   "outputs": [
    {
     "data": {
      "text/plain": [
       "1070"
      ]
     },
     "execution_count": 202,
     "metadata": {},
     "output_type": "execute_result"
    }
   ],
   "source": [
    "len(make_deepbank)"
   ]
  },
  {
   "cell_type": "code",
   "execution_count": 203,
   "id": "6c697eeb-b7db-4f31-a5e7-4ae36d7b804b",
   "metadata": {},
   "outputs": [
    {
     "data": {
      "text/plain": [
       "1438"
      ]
     },
     "execution_count": 203,
     "metadata": {},
     "output_type": "execute_result"
    }
   ],
   "source": [
    "len(make_semlink)"
   ]
  },
  {
   "cell_type": "code",
   "execution_count": 204,
   "id": "e36473c0-fe9e-4a53-b916-72232aef9d4d",
   "metadata": {},
   "outputs": [],
   "source": [
    "make_semlink = {instance.id: instance for instance in make_semlink}\n",
    "make_deepbank = {sentence.id: sentence for sentence in make_deepbank}"
   ]
  },
  {
   "cell_type": "code",
   "execution_count": 205,
   "id": "523bc064-42b8-473c-bc30-50b3166c12f7",
   "metadata": {},
   "outputs": [],
   "source": [
    "from data_classes import Sentence\n",
    "make = list()\n",
    "for sentence_id in id_set:\n",
    "    if sentence_id in make_semlink and sentence_id in make_deepbank:\n",
    "        make.append(Sentence(sentence_id, make_deepbank[sentence_id], make_semlink[sentence_id]))"
   ]
  },
  {
   "cell_type": "code",
   "execution_count": 206,
   "id": "8af01c15-0bda-47cc-8e0c-fe0e00308789",
   "metadata": {},
   "outputs": [
    {
     "data": {
      "text/plain": [
       "Sentence(id=20439043, deepbank=DeepbankSentence(id=20439043, sentence='It is the promise of economic returns that is supposed to make the corporatist model attractive to both the party and labor.', tokens=[('It', '<0:2>'), ('is', '<3:5>'), ('the', '<6:9>'), ('promise', '<10:17>'), ('of', '<18:20>'), ('economic', '<21:29>'), ('returns', '<30:37>'), ('that', '<38:42>'), ('is', '<43:45>'), ('supposed', '<46:54>'), ('to', '<55:57>'), ('make', '<58:62>'), ('the', '<63:66>'), ('corporatist', '<67:78>'), ('model', '<79:84>'), ('attractive', '<85:95>'), ('to', '<96:98>'), ('both', '<99:103>'), ('the', '<104:107>'), ('party', '<108:113>'), ('and', '<114:117>'), ('labor', '<118:123>'), ('.', '<123:124>')], eds=<EDS object (_be_v_itcleft _the_q _promise_n_of udef_q _economic_a_1 _return_n_of _supposed_a_1 _make_v_cause _the_q compound udef_q _corporatist/nn_u_unknown _model_n_of _attractive_a_1 _to_p udef_q _the_q _party_n_of-to _and_c udef_q _labor_n_1) at 140703453105264>), semlink=SemlinkInstance(id=20439043, token='make', verb='make', frame='Causation', args={}))"
      ]
     },
     "execution_count": 206,
     "metadata": {},
     "output_type": "execute_result"
    }
   ],
   "source": [
    "make[0]"
   ]
  },
  {
   "cell_type": "code",
   "execution_count": 210,
   "id": "2b1dbb9f-d1c6-4f0d-acc5-bbb9951e50bf",
   "metadata": {},
   "outputs": [
    {
     "data": {
      "text/plain": [
       "defaultdict(int,\n",
       "            {'Manufacturing': 145,\n",
       "             'NF': 508,\n",
       "             'Intentionally_create': 64,\n",
       "             'IN': 206,\n",
       "             'Cause_change': 8,\n",
       "             'Causation': 488,\n",
       "             'Cooking_creation': 7,\n",
       "             'Earnings_and_losses': 3,\n",
       "             'Building': 4,\n",
       "             'Arriving': 5})"
      ]
     },
     "execution_count": 210,
     "metadata": {},
     "output_type": "execute_result"
    }
   ],
   "source": [
    "verbs.iloc[2]['frames']"
   ]
  },
  {
   "cell_type": "code",
   "execution_count": 175,
   "id": "acc11ec2-01af-47e6-8e12-283edfb8d85d",
   "metadata": {},
   "outputs": [
    {
     "data": {
      "text/plain": [
       "[('Mr.', '<0:3>'),\n",
       " ('Vinken', '<4:10>'),\n",
       " ('is', '<11:13>'),\n",
       " ('chairman', '<14:22>'),\n",
       " ('of', '<23:25>'),\n",
       " ('Elsevier', '<26:34>'),\n",
       " ('N.V.', '<35:39>'),\n",
       " (',', '<39:40>'),\n",
       " ('the', '<41:44>'),\n",
       " ('Dutch', '<45:50>'),\n",
       " ('publishing', '<51:61>'),\n",
       " ('group', '<62:67>'),\n",
       " ('.', '<67:68>')]"
      ]
     },
     "execution_count": 175,
     "metadata": {},
     "output_type": "execute_result"
    }
   ],
   "source": [
    "[sentence for sentence in deepbank if sentence and sentence.id == 20001002][0].tokens"
   ]
  },
  {
   "cell_type": "code",
   "execution_count": 178,
   "id": "320fc2d0-61c0-45b4-ab55-c96ced200dce",
   "metadata": {},
   "outputs": [
    {
     "data": {
      "text/plain": [
       "[('Announcement', '<0:12>'),\n",
       " ('of', '<13:15>'),\n",
       " ('the', '<16:19>'),\n",
       " ('approval', '<20:28>'),\n",
       " ('is', '<29:31>'),\n",
       " ('expected', '<32:40>'),\n",
       " ('to', '<41:43>'),\n",
       " ('be', '<44:46>'),\n",
       " ('made', '<47:51>'),\n",
       " ('by', '<52:54>'),\n",
       " ('Louis', '<55:60>'),\n",
       " ('Sullivan', '<61:69>'),\n",
       " (',', '<69:70>'),\n",
       " ('secretary', '<71:80>'),\n",
       " ('of', '<81:83>'),\n",
       " ('Health', '<84:90>'),\n",
       " ('and', '<91:94>'),\n",
       " ('Human', '<95:100>'),\n",
       " ('Services', '<101:109>'),\n",
       " ('.', '<109:110>')]"
      ]
     },
     "execution_count": 178,
     "metadata": {},
     "output_type": "execute_result"
    }
   ],
   "source": [
    "[sentence for sentence in make if sentence.id == 21041002][0].deepbank.tokens"
   ]
  },
  {
   "cell_type": "code",
   "execution_count": 242,
   "id": "8d47fe75-84fd-41c2-a4a0-691b3ba25e6b",
   "metadata": {},
   "outputs": [],
   "source": [
    "frames = defaultdict(int)\n",
    "for instance in semlink:\n",
    "    frames[instance.frame] += 1"
   ]
  },
  {
   "cell_type": "code",
   "execution_count": 244,
   "id": "e61731f6-8306-40da-bee0-6410fcc3b75a",
   "metadata": {},
   "outputs": [
    {
     "data": {
      "text/plain": [
       "57537"
      ]
     },
     "execution_count": 244,
     "metadata": {},
     "output_type": "execute_result"
    }
   ],
   "source": [
    "sum(frames.values())"
   ]
  },
  {
   "cell_type": "code",
   "execution_count": 245,
   "id": "944b6915-3a75-4922-8cb6-de407047a3ba",
   "metadata": {},
   "outputs": [
    {
     "data": {
      "text/plain": [
       "335"
      ]
     },
     "execution_count": 245,
     "metadata": {},
     "output_type": "execute_result"
    }
   ],
   "source": [
    "len(frames.keys())"
   ]
  },
  {
   "cell_type": "code",
   "execution_count": 290,
   "id": "0e2a23cd-8f6e-47f2-b381-19064869ef93",
   "metadata": {},
   "outputs": [],
   "source": [
    "semlink_dict = defaultdict(list)\n",
    "for instance in semlink:\n",
    "    if instance.verb == 'make-v':\n",
    "        semlink_dict[instance.id].append(instance)"
   ]
  },
  {
   "cell_type": "code",
   "execution_count": 291,
   "id": "254a320a-bd0f-400f-8a15-6a4d2789a796",
   "metadata": {},
   "outputs": [],
   "source": [
    "sentences = list()\n",
    "for deepbank_sentence in deepbank:\n",
    "    if deepbank_sentence and deepbank_sentence.id in semlink_dict:\n",
    "        sentences.append(Sentence(deepbank_sentence.id, deepbank_sentence, semlink_dict[deepbank_sentence.id]))"
   ]
  },
  {
   "cell_type": "code",
   "execution_count": 292,
   "id": "f146f2bb-84b9-4d5c-b026-6668a3fb70a8",
   "metadata": {},
   "outputs": [
    {
     "data": {
      "text/plain": [
       "Sentence(id=20349007, deepbank=DeepbankSentence(id=20349007, sentence='Mr. Phelan said that the Big Board has been trying to deal quietly with the issue, but that banning computer-assisted trading strategies entirely, as some investors want, would be like \"taking everybody out of an automobile and making them ride a horse.\"', tokens=[('Mr.', '<0:3>'), ('Phelan', '<4:10>'), ('said', '<11:15>'), ('that', '<16:20>'), ('the', '<21:24>'), ('Big', '<25:28>'), ('Board', '<29:34>'), ('has', '<35:38>'), ('been', '<39:43>'), ('trying', '<44:50>'), ('to', '<51:53>'), ('deal', '<54:58>'), ('quietly', '<59:66>'), ('with', '<67:71>'), ('the', '<72:75>'), ('issue', '<76:81>'), (',', '<81:82>'), ('but', '<83:86>'), ('that', '<87:91>'), ('banning', '<92:99>'), ('computer-assisted', '<100:117>'), ('trading', '<118:125>'), ('strategies', '<126:136>'), ('entirely', '<137:145>'), (',', '<145:146>'), ('as', '<147:149>'), ('some', '<150:154>'), ('investors', '<155:164>'), ('want', '<165:169>'), (',', '<169:170>'), ('would', '<171:176>'), ('be', '<177:179>'), ('like', '<180:184>'), ('“', '<185:186>'), ('taking', '<186:192>'), ('everybody', '<193:202>'), ('out', '<203:206>'), ('of', '<207:209>'), ('an', '<210:212>'), ('automobile', '<213:223>'), ('and', '<224:227>'), ('making', '<228:234>'), ('them', '<235:239>'), ('ride', '<240:244>'), ('a', '<245:246>'), ('horse', '<247:252>'), ('.', '<252:253>'), ('”', '<253:254>')], eds=<EDS object (proper_q compound udef_q _mister_n_1 named _say_v_to _the_q compound proper_q named named _try_v_1 _deal_v_with _quiet_a_1 _the_q _issue_n_1 _but_c udef_q nominalization _ban_v_from udef_q compound udef_q compound udef_q _computer_n_1 _assist_v_1 parg_d _trade_v_1 nominalization _strategy_n_of _entire_a_1 _as_x_subord _some_q _investor_n_1 _want_v_1 _would_v_modal _like_p udef_q nominalization _take_v_1 person every_q _out+of_p _a_q _automobile_n_1 _and_c _make_v_cause pron pronoun_q _ride_v_1 _a_q _horse_n_1) at 140707445492288>), semlink=[SemlinkInstance(id=20349007, token='making', verb='make-v', frame='Causation', args={})])"
      ]
     },
     "execution_count": 292,
     "metadata": {},
     "output_type": "execute_result"
    }
   ],
   "source": [
    "sentences[0]"
   ]
  },
  {
   "cell_type": "code",
   "execution_count": 293,
   "id": "bd47d062-f6fc-4d61-9348-570a96e76f06",
   "metadata": {},
   "outputs": [
    {
     "data": {
      "text/plain": [
       "526"
      ]
     },
     "execution_count": 293,
     "metadata": {},
     "output_type": "execute_result"
    }
   ],
   "source": [
    "len(sentences)"
   ]
  },
  {
   "cell_type": "code",
   "execution_count": 294,
   "id": "b1447dba-bb20-4037-8388-170a16911eb9",
   "metadata": {},
   "outputs": [
    {
     "data": {
      "text/plain": [
       "712"
      ]
     },
     "execution_count": 294,
     "metadata": {},
     "output_type": "execute_result"
    }
   ],
   "source": [
    "len(semlink_dict)"
   ]
  },
  {
   "cell_type": "code",
   "execution_count": 296,
   "id": "f522cc69-f3ca-4f70-905b-e641d987ca4d",
   "metadata": {},
   "outputs": [],
   "source": [
    "with open('make-sentences.pickle', 'wb+') as f:\n",
    "    pickle.dump(sentences, f)"
   ]
  },
  {
   "cell_type": "code",
   "execution_count": null,
   "id": "690a671d-92af-4ffd-b129-309759029574",
   "metadata": {},
   "outputs": [],
   "source": []
  }
 ],
 "metadata": {
  "kernelspec": {
   "display_name": "Python 3 (ipykernel)",
   "language": "python",
   "name": "python3"
  },
  "language_info": {
   "codemirror_mode": {
    "name": "ipython",
    "version": 3
   },
   "file_extension": ".py",
   "mimetype": "text/x-python",
   "name": "python",
   "nbconvert_exporter": "python",
   "pygments_lexer": "ipython3",
   "version": "3.10.9"
  }
 },
 "nbformat": 4,
 "nbformat_minor": 5
}
